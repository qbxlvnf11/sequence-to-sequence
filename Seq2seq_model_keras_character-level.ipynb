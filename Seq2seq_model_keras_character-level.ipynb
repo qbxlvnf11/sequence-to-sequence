{
 "cells": [
  {
   "cell_type": "code",
   "execution_count": 1,
   "metadata": {},
   "outputs": [
    {
     "name": "stderr",
     "output_type": "stream",
     "text": [
      "Using TensorFlow backend.\n"
     ]
    }
   ],
   "source": [
    "from __future__ import print_function\n",
    "\n",
    "from keras.models import Model\n",
    "from keras.layers import Input, LSTM, Dense\n",
    "import numpy as np"
   ]
  },
  {
   "cell_type": "markdown",
   "metadata": {},
   "source": [
    "# Param"
   ]
  },
  {
   "cell_type": "code",
   "execution_count": 2,
   "metadata": {},
   "outputs": [],
   "source": [
    "batch_size = 64  # Batch size for training.\n",
    "epochs = 100  # Number of epochs to train for.\n",
    "latent_dim = 256  # Latent dimensionality of the encoding space.\n",
    "num_samples = 20000  # Number of samples to train on.\n",
    "# Path to the data txt file on disk.\n",
    "data_path = 'fra-eng/fra.txt'"
   ]
  },
  {
   "cell_type": "markdown",
   "metadata": {},
   "source": [
    "# Data"
   ]
  },
  {
   "cell_type": "code",
   "execution_count": 3,
   "metadata": {},
   "outputs": [],
   "source": [
    "input_texts = []\n",
    "target_texts = []\n",
    "input_characters = set()\n",
    "target_characters = set()"
   ]
  },
  {
   "cell_type": "code",
   "execution_count": 4,
   "metadata": {},
   "outputs": [],
   "source": [
    "with open(data_path, 'r', encoding='utf-8') as f:\n",
    "    lines = f.read().split('\\n')"
   ]
  },
  {
   "cell_type": "code",
   "execution_count": 5,
   "metadata": {},
   "outputs": [
    {
     "data": {
      "text/plain": [
       "(170652,)"
      ]
     },
     "execution_count": 5,
     "metadata": {},
     "output_type": "execute_result"
    }
   ],
   "source": [
    "np.array(lines).shape"
   ]
  },
  {
   "cell_type": "code",
   "execution_count": 6,
   "metadata": {},
   "outputs": [
    {
     "data": {
      "text/plain": [
       "'Go.\\tVa !\\tCC-BY 2.0 (France) Attribution: tatoeba.org #2877272 (CM) & #1158250 (Wittydev)'"
      ]
     },
     "execution_count": 6,
     "metadata": {},
     "output_type": "execute_result"
    }
   ],
   "source": [
    "lines[0]"
   ]
  },
  {
   "cell_type": "markdown",
   "metadata": {},
   "source": [
    "- Processing data"
   ]
  },
  {
   "cell_type": "code",
   "execution_count": 7,
   "metadata": {},
   "outputs": [],
   "source": [
    "for line in lines[: min(num_samples, len(lines) - 1)]:\n",
    "    input_text, target_text, attribution = line.split('\\t')\n",
    "    # We use \"tab\" as the \"start sequence\" character\n",
    "    # for the targets, and \"\\n\" as \"end sequence\" character.\n",
    "    target_text = '\\t' + target_text + '\\n'\n",
    "    input_texts.append(input_text)\n",
    "    target_texts.append(target_text)\n",
    "    # Get unique characters\n",
    "    for char in input_text:\n",
    "        if char not in input_characters:\n",
    "            input_characters.add(char)\n",
    "    for char in target_text:\n",
    "        if char not in target_characters:\n",
    "            target_characters.add(char)"
   ]
  },
  {
   "cell_type": "code",
   "execution_count": 8,
   "metadata": {},
   "outputs": [
    {
     "data": {
      "text/plain": [
       "(20000,)"
      ]
     },
     "execution_count": 8,
     "metadata": {},
     "output_type": "execute_result"
    }
   ],
   "source": [
    "np.array(input_texts).shape"
   ]
  },
  {
   "cell_type": "code",
   "execution_count": 9,
   "metadata": {},
   "outputs": [
    {
     "data": {
      "text/plain": [
       "'Go.'"
      ]
     },
     "execution_count": 9,
     "metadata": {},
     "output_type": "execute_result"
    }
   ],
   "source": [
    "input_texts[0]"
   ]
  },
  {
   "cell_type": "code",
   "execution_count": 10,
   "metadata": {},
   "outputs": [
    {
     "data": {
      "text/plain": [
       "(20000,)"
      ]
     },
     "execution_count": 10,
     "metadata": {},
     "output_type": "execute_result"
    }
   ],
   "source": [
    "np.array(target_texts).shape"
   ]
  },
  {
   "cell_type": "code",
   "execution_count": 11,
   "metadata": {},
   "outputs": [
    {
     "data": {
      "text/plain": [
       "'\\tVa !\\n'"
      ]
     },
     "execution_count": 11,
     "metadata": {},
     "output_type": "execute_result"
    }
   ],
   "source": [
    "target_texts[0]"
   ]
  },
  {
   "cell_type": "code",
   "execution_count": 12,
   "metadata": {},
   "outputs": [
    {
     "data": {
      "text/plain": [
       "{' ',\n",
       " '!',\n",
       " '\"',\n",
       " '$',\n",
       " '%',\n",
       " '&',\n",
       " \"'\",\n",
       " ',',\n",
       " '-',\n",
       " '.',\n",
       " '0',\n",
       " '1',\n",
       " '2',\n",
       " '3',\n",
       " '4',\n",
       " '5',\n",
       " '6',\n",
       " '7',\n",
       " '8',\n",
       " '9',\n",
       " ':',\n",
       " '?',\n",
       " 'A',\n",
       " 'B',\n",
       " 'C',\n",
       " 'D',\n",
       " 'E',\n",
       " 'F',\n",
       " 'G',\n",
       " 'H',\n",
       " 'I',\n",
       " 'J',\n",
       " 'K',\n",
       " 'L',\n",
       " 'M',\n",
       " 'N',\n",
       " 'O',\n",
       " 'P',\n",
       " 'Q',\n",
       " 'R',\n",
       " 'S',\n",
       " 'T',\n",
       " 'U',\n",
       " 'V',\n",
       " 'W',\n",
       " 'X',\n",
       " 'Y',\n",
       " 'Z',\n",
       " 'a',\n",
       " 'b',\n",
       " 'c',\n",
       " 'd',\n",
       " 'e',\n",
       " 'f',\n",
       " 'g',\n",
       " 'h',\n",
       " 'i',\n",
       " 'j',\n",
       " 'k',\n",
       " 'l',\n",
       " 'm',\n",
       " 'n',\n",
       " 'o',\n",
       " 'p',\n",
       " 'q',\n",
       " 'r',\n",
       " 's',\n",
       " 't',\n",
       " 'u',\n",
       " 'v',\n",
       " 'w',\n",
       " 'x',\n",
       " 'y',\n",
       " 'z'}"
      ]
     },
     "execution_count": 12,
     "metadata": {},
     "output_type": "execute_result"
    }
   ],
   "source": [
    "input_characters"
   ]
  },
  {
   "cell_type": "code",
   "execution_count": 13,
   "metadata": {},
   "outputs": [
    {
     "data": {
      "text/plain": [
       "{'\\t',\n",
       " '\\n',\n",
       " ' ',\n",
       " '!',\n",
       " '\"',\n",
       " '$',\n",
       " '%',\n",
       " '&',\n",
       " \"'\",\n",
       " '(',\n",
       " ')',\n",
       " ',',\n",
       " '-',\n",
       " '.',\n",
       " '0',\n",
       " '1',\n",
       " '2',\n",
       " '3',\n",
       " '4',\n",
       " '5',\n",
       " '6',\n",
       " '7',\n",
       " '8',\n",
       " '9',\n",
       " ':',\n",
       " '?',\n",
       " 'A',\n",
       " 'B',\n",
       " 'C',\n",
       " 'D',\n",
       " 'E',\n",
       " 'F',\n",
       " 'G',\n",
       " 'H',\n",
       " 'I',\n",
       " 'J',\n",
       " 'K',\n",
       " 'L',\n",
       " 'M',\n",
       " 'N',\n",
       " 'O',\n",
       " 'P',\n",
       " 'Q',\n",
       " 'R',\n",
       " 'S',\n",
       " 'T',\n",
       " 'U',\n",
       " 'V',\n",
       " 'X',\n",
       " 'Y',\n",
       " 'a',\n",
       " 'b',\n",
       " 'c',\n",
       " 'd',\n",
       " 'e',\n",
       " 'f',\n",
       " 'g',\n",
       " 'h',\n",
       " 'i',\n",
       " 'j',\n",
       " 'k',\n",
       " 'l',\n",
       " 'm',\n",
       " 'n',\n",
       " 'o',\n",
       " 'p',\n",
       " 'q',\n",
       " 'r',\n",
       " 's',\n",
       " 't',\n",
       " 'u',\n",
       " 'v',\n",
       " 'w',\n",
       " 'x',\n",
       " 'y',\n",
       " 'z',\n",
       " '\\xa0',\n",
       " '«',\n",
       " '»',\n",
       " 'À',\n",
       " 'Ç',\n",
       " 'É',\n",
       " 'Ê',\n",
       " 'Ô',\n",
       " 'à',\n",
       " 'â',\n",
       " 'ç',\n",
       " 'è',\n",
       " 'é',\n",
       " 'ê',\n",
       " 'ë',\n",
       " 'î',\n",
       " 'ï',\n",
       " 'ô',\n",
       " 'ù',\n",
       " 'û',\n",
       " 'œ',\n",
       " '\\u2009',\n",
       " '‘',\n",
       " '’',\n",
       " '\\u202f'}"
      ]
     },
     "execution_count": 13,
     "metadata": {},
     "output_type": "execute_result"
    }
   ],
   "source": [
    "target_characters"
   ]
  },
  {
   "cell_type": "code",
   "execution_count": 14,
   "metadata": {},
   "outputs": [],
   "source": [
    "input_characters = sorted(list(input_characters))\n",
    "target_characters = sorted(list(target_characters))\n",
    "num_encoder_tokens = len(input_characters)\n",
    "num_decoder_tokens = len(target_characters)\n",
    "max_encoder_seq_length = max([len(txt) for txt in input_texts])\n",
    "max_decoder_seq_length = max([len(txt) for txt in target_texts])"
   ]
  },
  {
   "cell_type": "code",
   "execution_count": 15,
   "metadata": {},
   "outputs": [
    {
     "name": "stdout",
     "output_type": "stream",
     "text": [
      "Number of samples: 20000\n",
      "Number of unique input tokens: 74\n",
      "Number of unique output t0okens: 101\n",
      "Max sequence length for inputs: 18\n",
      "Max sequence length for outputs: 59\n"
     ]
    }
   ],
   "source": [
    "print('Number of samples:', len(input_texts))\n",
    "print('Number of unique input tokens:', num_encoder_tokens)\n",
    "print('Number of unique output t0okens:', num_decoder_tokens)\n",
    "print('Max sequence length for inputs:', max_encoder_seq_length)\n",
    "print('Max sequence length for outputs:', max_decoder_seq_length)"
   ]
  },
  {
   "cell_type": "markdown",
   "metadata": {},
   "source": [
    "- Build character dictionary"
   ]
  },
  {
   "cell_type": "code",
   "execution_count": 16,
   "metadata": {},
   "outputs": [],
   "source": [
    "input_token_index = dict(\n",
    "    [(char, i) for i, char in enumerate(input_characters)])\n",
    "target_token_index = dict(\n",
    "    [(char, i) for i, char in enumerate(target_characters)])"
   ]
  },
  {
   "cell_type": "code",
   "execution_count": 17,
   "metadata": {},
   "outputs": [
    {
     "data": {
      "text/plain": [
       "{' ': 0,\n",
       " '!': 1,\n",
       " '\"': 2,\n",
       " '$': 3,\n",
       " '%': 4,\n",
       " '&': 5,\n",
       " \"'\": 6,\n",
       " ',': 7,\n",
       " '-': 8,\n",
       " '.': 9,\n",
       " '0': 10,\n",
       " '1': 11,\n",
       " '2': 12,\n",
       " '3': 13,\n",
       " '4': 14,\n",
       " '5': 15,\n",
       " '6': 16,\n",
       " '7': 17,\n",
       " '8': 18,\n",
       " '9': 19,\n",
       " ':': 20,\n",
       " '?': 21,\n",
       " 'A': 22,\n",
       " 'B': 23,\n",
       " 'C': 24,\n",
       " 'D': 25,\n",
       " 'E': 26,\n",
       " 'F': 27,\n",
       " 'G': 28,\n",
       " 'H': 29,\n",
       " 'I': 30,\n",
       " 'J': 31,\n",
       " 'K': 32,\n",
       " 'L': 33,\n",
       " 'M': 34,\n",
       " 'N': 35,\n",
       " 'O': 36,\n",
       " 'P': 37,\n",
       " 'Q': 38,\n",
       " 'R': 39,\n",
       " 'S': 40,\n",
       " 'T': 41,\n",
       " 'U': 42,\n",
       " 'V': 43,\n",
       " 'W': 44,\n",
       " 'X': 45,\n",
       " 'Y': 46,\n",
       " 'Z': 47,\n",
       " 'a': 48,\n",
       " 'b': 49,\n",
       " 'c': 50,\n",
       " 'd': 51,\n",
       " 'e': 52,\n",
       " 'f': 53,\n",
       " 'g': 54,\n",
       " 'h': 55,\n",
       " 'i': 56,\n",
       " 'j': 57,\n",
       " 'k': 58,\n",
       " 'l': 59,\n",
       " 'm': 60,\n",
       " 'n': 61,\n",
       " 'o': 62,\n",
       " 'p': 63,\n",
       " 'q': 64,\n",
       " 'r': 65,\n",
       " 's': 66,\n",
       " 't': 67,\n",
       " 'u': 68,\n",
       " 'v': 69,\n",
       " 'w': 70,\n",
       " 'x': 71,\n",
       " 'y': 72,\n",
       " 'z': 73}"
      ]
     },
     "execution_count": 17,
     "metadata": {},
     "output_type": "execute_result"
    }
   ],
   "source": [
    "input_token_index"
   ]
  },
  {
   "cell_type": "code",
   "execution_count": 18,
   "metadata": {},
   "outputs": [
    {
     "data": {
      "text/plain": [
       "{'\\t': 0,\n",
       " '\\n': 1,\n",
       " ' ': 2,\n",
       " '!': 3,\n",
       " '\"': 4,\n",
       " '$': 5,\n",
       " '%': 6,\n",
       " '&': 7,\n",
       " \"'\": 8,\n",
       " '(': 9,\n",
       " ')': 10,\n",
       " ',': 11,\n",
       " '-': 12,\n",
       " '.': 13,\n",
       " '0': 14,\n",
       " '1': 15,\n",
       " '2': 16,\n",
       " '3': 17,\n",
       " '4': 18,\n",
       " '5': 19,\n",
       " '6': 20,\n",
       " '7': 21,\n",
       " '8': 22,\n",
       " '9': 23,\n",
       " ':': 24,\n",
       " '?': 25,\n",
       " 'A': 26,\n",
       " 'B': 27,\n",
       " 'C': 28,\n",
       " 'D': 29,\n",
       " 'E': 30,\n",
       " 'F': 31,\n",
       " 'G': 32,\n",
       " 'H': 33,\n",
       " 'I': 34,\n",
       " 'J': 35,\n",
       " 'K': 36,\n",
       " 'L': 37,\n",
       " 'M': 38,\n",
       " 'N': 39,\n",
       " 'O': 40,\n",
       " 'P': 41,\n",
       " 'Q': 42,\n",
       " 'R': 43,\n",
       " 'S': 44,\n",
       " 'T': 45,\n",
       " 'U': 46,\n",
       " 'V': 47,\n",
       " 'X': 48,\n",
       " 'Y': 49,\n",
       " 'a': 50,\n",
       " 'b': 51,\n",
       " 'c': 52,\n",
       " 'd': 53,\n",
       " 'e': 54,\n",
       " 'f': 55,\n",
       " 'g': 56,\n",
       " 'h': 57,\n",
       " 'i': 58,\n",
       " 'j': 59,\n",
       " 'k': 60,\n",
       " 'l': 61,\n",
       " 'm': 62,\n",
       " 'n': 63,\n",
       " 'o': 64,\n",
       " 'p': 65,\n",
       " 'q': 66,\n",
       " 'r': 67,\n",
       " 's': 68,\n",
       " 't': 69,\n",
       " 'u': 70,\n",
       " 'v': 71,\n",
       " 'w': 72,\n",
       " 'x': 73,\n",
       " 'y': 74,\n",
       " 'z': 75,\n",
       " '\\xa0': 76,\n",
       " '«': 77,\n",
       " '»': 78,\n",
       " 'À': 79,\n",
       " 'Ç': 80,\n",
       " 'É': 81,\n",
       " 'Ê': 82,\n",
       " 'Ô': 83,\n",
       " 'à': 84,\n",
       " 'â': 85,\n",
       " 'ç': 86,\n",
       " 'è': 87,\n",
       " 'é': 88,\n",
       " 'ê': 89,\n",
       " 'ë': 90,\n",
       " 'î': 91,\n",
       " 'ï': 92,\n",
       " 'ô': 93,\n",
       " 'ù': 94,\n",
       " 'û': 95,\n",
       " 'œ': 96,\n",
       " '\\u2009': 97,\n",
       " '‘': 98,\n",
       " '’': 99,\n",
       " '\\u202f': 100}"
      ]
     },
     "execution_count": 18,
     "metadata": {},
     "output_type": "execute_result"
    }
   ],
   "source": [
    "target_token_index"
   ]
  },
  {
   "cell_type": "markdown",
   "metadata": {},
   "source": [
    "# Build encoder & decoder input"
   ]
  },
  {
   "cell_type": "markdown",
   "metadata": {},
   "source": [
    "- Init input"
   ]
  },
  {
   "cell_type": "code",
   "execution_count": 19,
   "metadata": {},
   "outputs": [],
   "source": [
    "encoder_input_data = np.zeros(\n",
    "    (len(input_texts), max_encoder_seq_length, num_encoder_tokens),\n",
    "    dtype='float32')\n",
    "decoder_input_data = np.zeros(\n",
    "    (len(input_texts), max_decoder_seq_length, num_decoder_tokens),\n",
    "    dtype='float32')\n",
    "decoder_target_data = np.zeros(\n",
    "    (len(input_texts), max_decoder_seq_length, num_decoder_tokens),\n",
    "    dtype='float32')"
   ]
  },
  {
   "cell_type": "markdown",
   "metadata": {},
   "source": [
    "- One-hot vector"
   ]
  },
  {
   "cell_type": "code",
   "execution_count": 20,
   "metadata": {},
   "outputs": [],
   "source": [
    "for i, (input_text, target_text) in enumerate(zip(input_texts, target_texts)):\n",
    "    for t, char in enumerate(input_text):\n",
    "        encoder_input_data[i, t, input_token_index[char]] = 1.\n",
    "    encoder_input_data[i, t + 1:, input_token_index[' ']] = 1.\n",
    "    for t, char in enumerate(target_text):\n",
    "        # decoder_target_data is ahead of decoder_input_data by one timestep\n",
    "        decoder_input_data[i, t, target_token_index[char]] = 1.\n",
    "        if t > 0:\n",
    "            # decoder_target_data will be ahead by one timestep\n",
    "            # and will not include the start character.\n",
    "            decoder_target_data[i, t - 1, target_token_index[char]] = 1.\n",
    "    decoder_input_data[i, t + 1:, target_token_index[' ']] = 1.\n",
    "    decoder_target_data[i, t:, target_token_index[' ']] = 1."
   ]
  },
  {
   "cell_type": "markdown",
   "metadata": {},
   "source": [
    "- Print encoder_input_data"
   ]
  },
  {
   "cell_type": "code",
   "execution_count": 21,
   "metadata": {},
   "outputs": [
    {
     "data": {
      "text/plain": [
       "'Go.'"
      ]
     },
     "execution_count": 21,
     "metadata": {},
     "output_type": "execute_result"
    }
   ],
   "source": [
    "input_texts[0]"
   ]
  },
  {
   "cell_type": "code",
   "execution_count": 22,
   "metadata": {},
   "outputs": [
    {
     "data": {
      "text/plain": [
       "array([[0., 0., 0., ..., 0., 0., 0.],\n",
       "       [0., 0., 0., ..., 0., 0., 0.],\n",
       "       [0., 0., 0., ..., 0., 0., 0.],\n",
       "       ...,\n",
       "       [1., 0., 0., ..., 0., 0., 0.],\n",
       "       [1., 0., 0., ..., 0., 0., 0.],\n",
       "       [1., 0., 0., ..., 0., 0., 0.]], dtype=float32)"
      ]
     },
     "execution_count": 22,
     "metadata": {},
     "output_type": "execute_result"
    }
   ],
   "source": [
    "# ' ': index 0\n",
    "encoder_input_data[0]"
   ]
  },
  {
   "cell_type": "code",
   "execution_count": 23,
   "metadata": {},
   "outputs": [
    {
     "data": {
      "text/plain": [
       "0.0"
      ]
     },
     "execution_count": 23,
     "metadata": {},
     "output_type": "execute_result"
    }
   ],
   "source": [
    "# G: Index 26\n",
    "encoder_input_data[0][0][26]"
   ]
  },
  {
   "cell_type": "code",
   "execution_count": 24,
   "metadata": {},
   "outputs": [
    {
     "data": {
      "text/plain": [
       "0.0"
      ]
     },
     "execution_count": 24,
     "metadata": {},
     "output_type": "execute_result"
    }
   ],
   "source": [
    "# o: Index 58\n",
    "encoder_input_data[0][1][58]"
   ]
  },
  {
   "cell_type": "markdown",
   "metadata": {},
   "source": [
    "- Print decoder_input_data"
   ]
  },
  {
   "cell_type": "code",
   "execution_count": 25,
   "metadata": {},
   "outputs": [
    {
     "data": {
      "text/plain": [
       "'\\tVa !\\n'"
      ]
     },
     "execution_count": 25,
     "metadata": {},
     "output_type": "execute_result"
    }
   ],
   "source": [
    "# \\t: start, \\n: end\n",
    "target_texts[0]"
   ]
  },
  {
   "cell_type": "code",
   "execution_count": 26,
   "metadata": {},
   "outputs": [
    {
     "data": {
      "text/plain": [
       "array([[1., 0., 0., ..., 0., 0., 0.],\n",
       "       [0., 0., 0., ..., 0., 0., 0.],\n",
       "       [0., 0., 0., ..., 0., 0., 0.],\n",
       "       ...,\n",
       "       [0., 0., 1., ..., 0., 0., 0.],\n",
       "       [0., 0., 1., ..., 0., 0., 0.],\n",
       "       [0., 0., 1., ..., 0., 0., 0.]], dtype=float32)"
      ]
     },
     "execution_count": 26,
     "metadata": {},
     "output_type": "execute_result"
    }
   ],
   "source": [
    "# ' ': index 2 \n",
    "decoder_input_data[0]"
   ]
  },
  {
   "cell_type": "code",
   "execution_count": 27,
   "metadata": {},
   "outputs": [
    {
     "data": {
      "text/plain": [
       "0.0"
      ]
     },
     "execution_count": 27,
     "metadata": {},
     "output_type": "execute_result"
    }
   ],
   "source": [
    "# V: Index 43\n",
    "decoder_input_data[0][1][43]"
   ]
  },
  {
   "cell_type": "code",
   "execution_count": 28,
   "metadata": {},
   "outputs": [
    {
     "data": {
      "text/plain": [
       "array([[0., 0., 0., ..., 0., 0., 0.],\n",
       "       [0., 0., 0., ..., 0., 0., 0.],\n",
       "       [0., 0., 1., ..., 0., 0., 0.],\n",
       "       ...,\n",
       "       [0., 0., 1., ..., 0., 0., 0.],\n",
       "       [0., 0., 1., ..., 0., 0., 0.],\n",
       "       [0., 0., 1., ..., 0., 0., 0.]], dtype=float32)"
      ]
     },
     "execution_count": 28,
     "metadata": {},
     "output_type": "execute_result"
    }
   ],
   "source": [
    "# ' ': index 2 \n",
    "decoder_target_data[0]"
   ]
  },
  {
   "cell_type": "code",
   "execution_count": 29,
   "metadata": {},
   "outputs": [
    {
     "data": {
      "text/plain": [
       "0.0"
      ]
     },
     "execution_count": 29,
     "metadata": {},
     "output_type": "execute_result"
    }
   ],
   "source": [
    "# V: Index 43\n",
    "decoder_target_data[0][0][43]"
   ]
  },
  {
   "cell_type": "markdown",
   "metadata": {},
   "source": [
    "# Encode & Decoder (implementation of sequence-to-sequence)"
   ]
  },
  {
   "cell_type": "markdown",
   "metadata": {},
   "source": [
    "- Return_state & return_sequences param of LSTM: https://www.dlology.com/blog/how-to-use-return_state-or-return_sequences-in-keras/\n",
    "- Encoder states (context vector): initial hidden state of decoder\n",
    "- Teacher Forcing: https://towardsdatascience.com/what-is-teacher-forcing-3da6217fed1c"
   ]
  },
  {
   "cell_type": "markdown",
   "metadata": {},
   "source": [
    "- Encoder"
   ]
  },
  {
   "cell_type": "code",
   "execution_count": 30,
   "metadata": {},
   "outputs": [],
   "source": [
    "# Define an input sequence and process it.\n",
    "encoder_inputs = Input(shape=(None, num_encoder_tokens))\n",
    "encoder = LSTM(latent_dim, return_state=True)\n",
    "encoder_outputs, state_h, state_c = encoder(encoder_inputs)\n",
    "# We discard `encoder_outputs` and only keep the states.\n",
    "encoder_states = [state_h, state_c] # Context vector of encoder"
   ]
  },
  {
   "cell_type": "markdown",
   "metadata": {},
   "source": [
    "- Decoder "
   ]
  },
  {
   "cell_type": "code",
   "execution_count": 31,
   "metadata": {},
   "outputs": [],
   "source": [
    "# Set up the decoder, using `encoder_states` as initial state.\n",
    "decoder_inputs = Input(shape=(None, num_decoder_tokens))\n",
    "# We set up our decoder to return full output sequences,\n",
    "# and to return internal states as well. We don't use the\n",
    "# return states in the training model, but we will use them in inference.\n",
    "decoder_lstm = LSTM(latent_dim, return_sequences=True, return_state=True)\n",
    "decoder_outputs, _, _ = decoder_lstm(decoder_inputs,\n",
    "                                     initial_state=encoder_states)\n",
    "decoder_dense = Dense(num_decoder_tokens, activation='softmax')\n",
    "decoder_outputs = decoder_dense(decoder_outputs)"
   ]
  },
  {
   "cell_type": "markdown",
   "metadata": {},
   "source": [
    "- Model"
   ]
  },
  {
   "cell_type": "code",
   "execution_count": 32,
   "metadata": {},
   "outputs": [],
   "source": [
    "# Define the model that will turn\n",
    "# `encoder_input_data` & `decoder_input_data` into `decoder_target_data`\n",
    "model = Model([encoder_inputs, decoder_inputs], decoder_outputs)\n",
    "\n",
    "# Run training\n",
    "model.compile(optimizer='rmsprop', loss='categorical_crossentropy',\n",
    "              metrics=['accuracy'])"
   ]
  },
  {
   "cell_type": "markdown",
   "metadata": {},
   "source": [
    "# Train "
   ]
  },
  {
   "cell_type": "code",
   "execution_count": 33,
   "metadata": {},
   "outputs": [],
   "source": [
    "import keras.backend.tensorflow_backend as K"
   ]
  },
  {
   "cell_type": "code",
   "execution_count": 34,
   "metadata": {
    "scrolled": true
   },
   "outputs": [
    {
     "name": "stdout",
     "output_type": "stream",
     "text": [
      "Train on 16000 samples, validate on 4000 samples\n",
      "Epoch 1/100\n",
      "16000/16000 [==============================] - 21s 1ms/step - loss: 1.0989 - accuracy: 0.7248 - val_loss: 0.9784 - val_accuracy: 0.7297\n",
      "Epoch 2/100\n",
      "16000/16000 [==============================] - 20s 1ms/step - loss: 0.7200 - accuracy: 0.7940 - val_loss: 0.7808 - val_accuracy: 0.7700\n",
      "Epoch 3/100\n",
      "16000/16000 [==============================] - 20s 1ms/step - loss: 0.6067 - accuracy: 0.8220 - val_loss: 0.6930 - val_accuracy: 0.7960\n",
      "Epoch 4/100\n",
      "16000/16000 [==============================] - 20s 1ms/step - loss: 0.5471 - accuracy: 0.8384 - val_loss: 0.6412 - val_accuracy: 0.8126\n",
      "Epoch 5/100\n",
      "16000/16000 [==============================] - 20s 1ms/step - loss: 0.4981 - accuracy: 0.8519 - val_loss: 0.6020 - val_accuracy: 0.8218\n",
      "Epoch 6/100\n",
      "16000/16000 [==============================] - 20s 1ms/step - loss: 0.4610 - accuracy: 0.8620 - val_loss: 0.5620 - val_accuracy: 0.8334\n",
      "Epoch 7/100\n",
      "16000/16000 [==============================] - 20s 1ms/step - loss: 0.4311 - accuracy: 0.8710 - val_loss: 0.5410 - val_accuracy: 0.8393\n",
      "Epoch 8/100\n",
      "16000/16000 [==============================] - 20s 1ms/step - loss: 0.4061 - accuracy: 0.8782 - val_loss: 0.5220 - val_accuracy: 0.8447\n",
      "Epoch 9/100\n",
      "16000/16000 [==============================] - 20s 1ms/step - loss: 0.3843 - accuracy: 0.8849 - val_loss: 0.5048 - val_accuracy: 0.8496\n",
      "Epoch 10/100\n",
      "16000/16000 [==============================] - 20s 1ms/step - loss: 0.3655 - accuracy: 0.8901 - val_loss: 0.4925 - val_accuracy: 0.8532\n",
      "Epoch 11/100\n",
      "16000/16000 [==============================] - 20s 1ms/step - loss: 0.3488 - accuracy: 0.8949 - val_loss: 0.4792 - val_accuracy: 0.8575\n",
      "Epoch 12/100\n",
      "16000/16000 [==============================] - 20s 1ms/step - loss: 0.3337 - accuracy: 0.8995 - val_loss: 0.4719 - val_accuracy: 0.8601\n",
      "Epoch 13/100\n",
      "16000/16000 [==============================] - 20s 1ms/step - loss: 0.3202 - accuracy: 0.9033 - val_loss: 0.4648 - val_accuracy: 0.8623\n",
      "Epoch 14/100\n",
      "16000/16000 [==============================] - 20s 1ms/step - loss: 0.3077 - accuracy: 0.9070 - val_loss: 0.4601 - val_accuracy: 0.8641\n",
      "Epoch 15/100\n",
      "16000/16000 [==============================] - 20s 1ms/step - loss: 0.2964 - accuracy: 0.9102 - val_loss: 0.4575 - val_accuracy: 0.8647\n",
      "Epoch 16/100\n",
      "16000/16000 [==============================] - 20s 1ms/step - loss: 0.2859 - accuracy: 0.9132 - val_loss: 0.4565 - val_accuracy: 0.8661\n",
      "Epoch 17/100\n",
      "16000/16000 [==============================] - 20s 1ms/step - loss: 0.2760 - accuracy: 0.9163 - val_loss: 0.4529 - val_accuracy: 0.8675\n",
      "Epoch 18/100\n",
      "16000/16000 [==============================] - 20s 1ms/step - loss: 0.2668 - accuracy: 0.9189 - val_loss: 0.4492 - val_accuracy: 0.8691\n",
      "Epoch 19/100\n",
      "16000/16000 [==============================] - 20s 1ms/step - loss: 0.2582 - accuracy: 0.9213 - val_loss: 0.4540 - val_accuracy: 0.8682\n",
      "Epoch 20/100\n",
      "16000/16000 [==============================] - 20s 1ms/step - loss: 0.2499 - accuracy: 0.9239 - val_loss: 0.4527 - val_accuracy: 0.8695\n",
      "Epoch 21/100\n",
      "16000/16000 [==============================] - 20s 1ms/step - loss: 0.2420 - accuracy: 0.9264 - val_loss: 0.4524 - val_accuracy: 0.8699\n",
      "Epoch 22/100\n",
      "16000/16000 [==============================] - 20s 1ms/step - loss: 0.2348 - accuracy: 0.9282 - val_loss: 0.4568 - val_accuracy: 0.8700\n",
      "Epoch 23/100\n",
      "16000/16000 [==============================] - 20s 1ms/step - loss: 0.2275 - accuracy: 0.9305 - val_loss: 0.4578 - val_accuracy: 0.8705\n",
      "Epoch 24/100\n",
      "16000/16000 [==============================] - 20s 1ms/step - loss: 0.2209 - accuracy: 0.9323 - val_loss: 0.4592 - val_accuracy: 0.8704\n",
      "Epoch 25/100\n",
      "16000/16000 [==============================] - 20s 1ms/step - loss: 0.2141 - accuracy: 0.9342 - val_loss: 0.4593 - val_accuracy: 0.8712\n",
      "Epoch 26/100\n",
      "16000/16000 [==============================] - 20s 1ms/step - loss: 0.2080 - accuracy: 0.9361 - val_loss: 0.4661 - val_accuracy: 0.8706\n",
      "Epoch 27/100\n",
      "16000/16000 [==============================] - 20s 1ms/step - loss: 0.2020 - accuracy: 0.9379 - val_loss: 0.4673 - val_accuracy: 0.8703\n",
      "Epoch 28/100\n",
      "16000/16000 [==============================] - 20s 1ms/step - loss: 0.1965 - accuracy: 0.9395 - val_loss: 0.4734 - val_accuracy: 0.8703\n",
      "Epoch 29/100\n",
      "16000/16000 [==============================] - 20s 1ms/step - loss: 0.1911 - accuracy: 0.9412 - val_loss: 0.4728 - val_accuracy: 0.8712\n",
      "Epoch 30/100\n",
      "16000/16000 [==============================] - 20s 1ms/step - loss: 0.1857 - accuracy: 0.9427 - val_loss: 0.4788 - val_accuracy: 0.8708\n",
      "Epoch 31/100\n",
      "16000/16000 [==============================] - 20s 1ms/step - loss: 0.1804 - accuracy: 0.9442 - val_loss: 0.4849 - val_accuracy: 0.8703\n",
      "Epoch 32/100\n",
      "16000/16000 [==============================] - 20s 1ms/step - loss: 0.1761 - accuracy: 0.9454 - val_loss: 0.4945 - val_accuracy: 0.8687\n",
      "Epoch 33/100\n",
      "16000/16000 [==============================] - 20s 1ms/step - loss: 0.1712 - accuracy: 0.9470 - val_loss: 0.4948 - val_accuracy: 0.8703\n",
      "Epoch 34/100\n",
      "16000/16000 [==============================] - 20s 1ms/step - loss: 0.1669 - accuracy: 0.9482 - val_loss: 0.5008 - val_accuracy: 0.8691\n",
      "Epoch 35/100\n",
      "16000/16000 [==============================] - 20s 1ms/step - loss: 0.1626 - accuracy: 0.9495 - val_loss: 0.5019 - val_accuracy: 0.8697\n",
      "Epoch 36/100\n",
      "16000/16000 [==============================] - 20s 1ms/step - loss: 0.1585 - accuracy: 0.9507 - val_loss: 0.5083 - val_accuracy: 0.8686\n",
      "Epoch 37/100\n",
      "16000/16000 [==============================] - 20s 1ms/step - loss: 0.1545 - accuracy: 0.9519 - val_loss: 0.5137 - val_accuracy: 0.8692\n",
      "Epoch 38/100\n",
      "16000/16000 [==============================] - 20s 1ms/step - loss: 0.1505 - accuracy: 0.9532 - val_loss: 0.5188 - val_accuracy: 0.8682\n",
      "Epoch 39/100\n",
      "16000/16000 [==============================] - 20s 1ms/step - loss: 0.1471 - accuracy: 0.9541 - val_loss: 0.5233 - val_accuracy: 0.8689\n",
      "Epoch 40/100\n",
      "16000/16000 [==============================] - 20s 1ms/step - loss: 0.1431 - accuracy: 0.9552 - val_loss: 0.5300 - val_accuracy: 0.8685\n",
      "Epoch 41/100\n",
      "16000/16000 [==============================] - 20s 1ms/step - loss: 0.1399 - accuracy: 0.9563 - val_loss: 0.5364 - val_accuracy: 0.8676\n",
      "Epoch 42/100\n",
      "16000/16000 [==============================] - 20s 1ms/step - loss: 0.1365 - accuracy: 0.9573 - val_loss: 0.5404 - val_accuracy: 0.8684\n",
      "Epoch 43/100\n",
      "16000/16000 [==============================] - 20s 1ms/step - loss: 0.1330 - accuracy: 0.9583 - val_loss: 0.5461 - val_accuracy: 0.8677\n",
      "Epoch 44/100\n",
      "16000/16000 [==============================] - 20s 1ms/step - loss: 0.1299 - accuracy: 0.9591 - val_loss: 0.5500 - val_accuracy: 0.8676\n",
      "Epoch 45/100\n",
      "16000/16000 [==============================] - 20s 1ms/step - loss: 0.1269 - accuracy: 0.9598 - val_loss: 0.5555 - val_accuracy: 0.8675\n",
      "Epoch 46/100\n",
      "16000/16000 [==============================] - 20s 1ms/step - loss: 0.1240 - accuracy: 0.9609 - val_loss: 0.5600 - val_accuracy: 0.8681\n",
      "Epoch 47/100\n",
      "16000/16000 [==============================] - 20s 1ms/step - loss: 0.1212 - accuracy: 0.9615 - val_loss: 0.5664 - val_accuracy: 0.8677\n",
      "Epoch 48/100\n",
      "16000/16000 [==============================] - 20s 1ms/step - loss: 0.1182 - accuracy: 0.9625 - val_loss: 0.5773 - val_accuracy: 0.8658\n",
      "Epoch 49/100\n",
      "16000/16000 [==============================] - 20s 1ms/step - loss: 0.1159 - accuracy: 0.9633 - val_loss: 0.5796 - val_accuracy: 0.8664\n",
      "Epoch 50/100\n",
      "16000/16000 [==============================] - 20s 1ms/step - loss: 0.1133 - accuracy: 0.9640 - val_loss: 0.5875 - val_accuracy: 0.8661\n",
      "Epoch 51/100\n",
      "16000/16000 [==============================] - 20s 1ms/step - loss: 0.1107 - accuracy: 0.9646 - val_loss: 0.5929 - val_accuracy: 0.8653\n",
      "Epoch 52/100\n",
      "16000/16000 [==============================] - 20s 1ms/step - loss: 0.1081 - accuracy: 0.9655 - val_loss: 0.5988 - val_accuracy: 0.8664\n",
      "Epoch 53/100\n",
      "16000/16000 [==============================] - 20s 1ms/step - loss: 0.1061 - accuracy: 0.9663 - val_loss: 0.6037 - val_accuracy: 0.8653\n",
      "Epoch 54/100\n",
      "16000/16000 [==============================] - 20s 1ms/step - loss: 0.1036 - accuracy: 0.9669 - val_loss: 0.6077 - val_accuracy: 0.8657\n",
      "Epoch 55/100\n",
      "16000/16000 [==============================] - 20s 1ms/step - loss: 0.1013 - accuracy: 0.9676 - val_loss: 0.6196 - val_accuracy: 0.8648\n"
     ]
    },
    {
     "name": "stdout",
     "output_type": "stream",
     "text": [
      "Epoch 56/100\n",
      "16000/16000 [==============================] - 20s 1ms/step - loss: 0.0993 - accuracy: 0.9681 - val_loss: 0.6195 - val_accuracy: 0.8655\n",
      "Epoch 57/100\n",
      "16000/16000 [==============================] - 20s 1ms/step - loss: 0.0973 - accuracy: 0.9687 - val_loss: 0.6270 - val_accuracy: 0.8651\n",
      "Epoch 58/100\n",
      "16000/16000 [==============================] - 20s 1ms/step - loss: 0.0952 - accuracy: 0.9694 - val_loss: 0.6284 - val_accuracy: 0.8653\n",
      "Epoch 59/100\n",
      "16000/16000 [==============================] - 20s 1ms/step - loss: 0.0933 - accuracy: 0.9699 - val_loss: 0.6361 - val_accuracy: 0.8648\n",
      "Epoch 60/100\n",
      "16000/16000 [==============================] - 20s 1ms/step - loss: 0.0914 - accuracy: 0.9705 - val_loss: 0.6417 - val_accuracy: 0.8643\n",
      "Epoch 61/100\n",
      "16000/16000 [==============================] - 20s 1ms/step - loss: 0.0898 - accuracy: 0.9709 - val_loss: 0.6443 - val_accuracy: 0.8644\n",
      "Epoch 62/100\n",
      "16000/16000 [==============================] - 20s 1ms/step - loss: 0.0877 - accuracy: 0.9714 - val_loss: 0.6520 - val_accuracy: 0.8639\n",
      "Epoch 63/100\n",
      "16000/16000 [==============================] - 20s 1ms/step - loss: 0.0862 - accuracy: 0.9720 - val_loss: 0.6577 - val_accuracy: 0.8640\n",
      "Epoch 64/100\n",
      "16000/16000 [==============================] - 20s 1ms/step - loss: 0.0847 - accuracy: 0.9725 - val_loss: 0.6654 - val_accuracy: 0.8636\n",
      "Epoch 65/100\n",
      "16000/16000 [==============================] - 20s 1ms/step - loss: 0.0829 - accuracy: 0.9731 - val_loss: 0.6675 - val_accuracy: 0.8638\n",
      "Epoch 66/100\n",
      "16000/16000 [==============================] - 20s 1ms/step - loss: 0.0814 - accuracy: 0.9735 - val_loss: 0.6719 - val_accuracy: 0.8640\n",
      "Epoch 67/100\n",
      "16000/16000 [==============================] - 20s 1ms/step - loss: 0.0800 - accuracy: 0.9739 - val_loss: 0.6801 - val_accuracy: 0.8630\n",
      "Epoch 68/100\n",
      "16000/16000 [==============================] - 20s 1ms/step - loss: 0.0786 - accuracy: 0.9741 - val_loss: 0.6856 - val_accuracy: 0.8631\n",
      "Epoch 69/100\n",
      "16000/16000 [==============================] - 20s 1ms/step - loss: 0.0771 - accuracy: 0.9748 - val_loss: 0.6939 - val_accuracy: 0.8625\n",
      "Epoch 70/100\n",
      "16000/16000 [==============================] - 20s 1ms/step - loss: 0.0761 - accuracy: 0.9751 - val_loss: 0.6993 - val_accuracy: 0.8623\n",
      "Epoch 71/100\n",
      "16000/16000 [==============================] - 20s 1ms/step - loss: 0.0745 - accuracy: 0.9754 - val_loss: 0.7025 - val_accuracy: 0.8621\n",
      "Epoch 72/100\n",
      "16000/16000 [==============================] - 20s 1ms/step - loss: 0.0730 - accuracy: 0.9760 - val_loss: 0.7042 - val_accuracy: 0.8634\n",
      "Epoch 73/100\n",
      "16000/16000 [==============================] - 20s 1ms/step - loss: 0.0718 - accuracy: 0.9764 - val_loss: 0.7114 - val_accuracy: 0.8622\n",
      "Epoch 74/100\n",
      "16000/16000 [==============================] - 20s 1ms/step - loss: 0.0707 - accuracy: 0.9766 - val_loss: 0.7143 - val_accuracy: 0.8623\n",
      "Epoch 75/100\n",
      "16000/16000 [==============================] - 20s 1ms/step - loss: 0.0698 - accuracy: 0.9769 - val_loss: 0.7189 - val_accuracy: 0.8620\n",
      "Epoch 76/100\n",
      "16000/16000 [==============================] - 20s 1ms/step - loss: 0.0684 - accuracy: 0.9773 - val_loss: 0.7266 - val_accuracy: 0.8617\n",
      "Epoch 77/100\n",
      "16000/16000 [==============================] - 20s 1ms/step - loss: 0.0672 - accuracy: 0.9777 - val_loss: 0.7270 - val_accuracy: 0.8621\n",
      "Epoch 78/100\n",
      "16000/16000 [==============================] - 20s 1ms/step - loss: 0.0665 - accuracy: 0.9778 - val_loss: 0.7352 - val_accuracy: 0.8616\n",
      "Epoch 79/100\n",
      "16000/16000 [==============================] - 20s 1ms/step - loss: 0.0655 - accuracy: 0.9782 - val_loss: 0.7395 - val_accuracy: 0.8611\n",
      "Epoch 80/100\n",
      "16000/16000 [==============================] - 20s 1ms/step - loss: 0.0647 - accuracy: 0.9785 - val_loss: 0.7448 - val_accuracy: 0.8618\n",
      "Epoch 81/100\n",
      "16000/16000 [==============================] - 20s 1ms/step - loss: 0.0635 - accuracy: 0.9788 - val_loss: 0.7482 - val_accuracy: 0.8609\n",
      "Epoch 82/100\n",
      "16000/16000 [==============================] - 20s 1ms/step - loss: 0.0626 - accuracy: 0.9790 - val_loss: 0.7505 - val_accuracy: 0.8612\n",
      "Epoch 83/100\n",
      "16000/16000 [==============================] - 20s 1ms/step - loss: 0.0619 - accuracy: 0.9793 - val_loss: 0.7547 - val_accuracy: 0.8607\n",
      "Epoch 84/100\n",
      "16000/16000 [==============================] - 20s 1ms/step - loss: 0.0609 - accuracy: 0.9796 - val_loss: 0.7649 - val_accuracy: 0.8605\n",
      "Epoch 85/100\n",
      "16000/16000 [==============================] - 20s 1ms/step - loss: 0.0604 - accuracy: 0.9797 - val_loss: 0.7652 - val_accuracy: 0.8604\n",
      "Epoch 86/100\n",
      "16000/16000 [==============================] - 20s 1ms/step - loss: 0.0592 - accuracy: 0.9801 - val_loss: 0.7658 - val_accuracy: 0.8614\n",
      "Epoch 87/100\n",
      "16000/16000 [==============================] - 20s 1ms/step - loss: 0.0585 - accuracy: 0.9803 - val_loss: 0.7727 - val_accuracy: 0.8605\n",
      "Epoch 88/100\n",
      "16000/16000 [==============================] - 20s 1ms/step - loss: 0.0576 - accuracy: 0.9805 - val_loss: 0.7707 - val_accuracy: 0.8617\n",
      "Epoch 89/100\n",
      "16000/16000 [==============================] - 20s 1ms/step - loss: 0.0573 - accuracy: 0.9806 - val_loss: 0.7776 - val_accuracy: 0.8611\n",
      "Epoch 90/100\n",
      "16000/16000 [==============================] - 20s 1ms/step - loss: 0.0564 - accuracy: 0.9810 - val_loss: 0.7796 - val_accuracy: 0.8601\n",
      "Epoch 91/100\n",
      "16000/16000 [==============================] - 20s 1ms/step - loss: 0.0558 - accuracy: 0.9810 - val_loss: 0.7868 - val_accuracy: 0.8621\n",
      "Epoch 92/100\n",
      "16000/16000 [==============================] - 20s 1ms/step - loss: 0.0549 - accuracy: 0.9816 - val_loss: 0.7866 - val_accuracy: 0.8610\n",
      "Epoch 93/100\n",
      "16000/16000 [==============================] - 20s 1ms/step - loss: 0.0544 - accuracy: 0.9816 - val_loss: 0.7908 - val_accuracy: 0.8608\n",
      "Epoch 94/100\n",
      "16000/16000 [==============================] - 20s 1ms/step - loss: 0.0538 - accuracy: 0.9817 - val_loss: 0.7965 - val_accuracy: 0.8608\n",
      "Epoch 95/100\n",
      "16000/16000 [==============================] - 20s 1ms/step - loss: 0.0532 - accuracy: 0.9817 - val_loss: 0.7974 - val_accuracy: 0.8608\n",
      "Epoch 96/100\n",
      "16000/16000 [==============================] - 20s 1ms/step - loss: 0.0526 - accuracy: 0.9820 - val_loss: 0.8030 - val_accuracy: 0.8605\n",
      "Epoch 97/100\n",
      "16000/16000 [==============================] - 20s 1ms/step - loss: 0.0521 - accuracy: 0.9822 - val_loss: 0.8057 - val_accuracy: 0.8608\n",
      "Epoch 98/100\n",
      "16000/16000 [==============================] - 20s 1ms/step - loss: 0.0519 - accuracy: 0.9822 - val_loss: 0.8065 - val_accuracy: 0.8613\n",
      "Epoch 99/100\n",
      "16000/16000 [==============================] - 20s 1ms/step - loss: 0.0509 - accuracy: 0.9826 - val_loss: 0.8091 - val_accuracy: 0.8614\n",
      "Epoch 100/100\n",
      "16000/16000 [==============================] - 20s 1ms/step - loss: 0.0507 - accuracy: 0.9825 - val_loss: 0.8196 - val_accuracy: 0.8611\n"
     ]
    }
   ],
   "source": [
    "with K.tf.device('/gpu:1'):\n",
    "    model.fit([encoder_input_data, decoder_input_data], decoder_target_data,\n",
    "              batch_size=batch_size,\n",
    "              epochs=epochs,\n",
    "              validation_split=0.2)"
   ]
  },
  {
   "cell_type": "code",
   "execution_count": 35,
   "metadata": {},
   "outputs": [],
   "source": [
    "# Save model\n",
    "model.save('s2s.h5')"
   ]
  },
  {
   "cell_type": "markdown",
   "metadata": {},
   "source": [
    "# Test"
   ]
  },
  {
   "cell_type": "code",
   "execution_count": 36,
   "metadata": {},
   "outputs": [],
   "source": [
    "# Next: inference mode (sampling).\n",
    "# Here's the drill:\n",
    "# 1) encode input and retrieve initial decoder state\n",
    "# 2) run one step of decoder with this initial state\n",
    "# and a \"start of sequence\" token as target.\n",
    "# Output will be the next target token\n",
    "# 3) Repeat with the current target token and current states\n",
    "\n",
    "# Define sampling models\n",
    "encoder_model = Model(encoder_inputs, encoder_states)\n",
    "\n",
    "decoder_state_input_h = Input(shape=(latent_dim,))\n",
    "decoder_state_input_c = Input(shape=(latent_dim,))\n",
    "decoder_states_inputs = [decoder_state_input_h, decoder_state_input_c]\n",
    "decoder_outputs, state_h, state_c = decoder_lstm(\n",
    "    decoder_inputs, initial_state=decoder_states_inputs)\n",
    "decoder_states = [state_h, state_c]\n",
    "decoder_outputs = decoder_dense(decoder_outputs)\n",
    "\n",
    "decoder_model = Model(\n",
    "    [decoder_inputs] + decoder_states_inputs,\n",
    "    [decoder_outputs] + decoder_states)"
   ]
  },
  {
   "cell_type": "code",
   "execution_count": 37,
   "metadata": {},
   "outputs": [],
   "source": [
    "# Reverse-lookup token index to decode sequences back to\n",
    "# something readable.\n",
    "reverse_input_char_index = dict(\n",
    "    (i, char) for char, i in input_token_index.items())\n",
    "reverse_target_char_index = dict(\n",
    "    (i, char) for char, i in target_token_index.items())"
   ]
  },
  {
   "cell_type": "code",
   "execution_count": 38,
   "metadata": {},
   "outputs": [
    {
     "data": {
      "text/plain": [
       "{0: ' ',\n",
       " 1: '!',\n",
       " 2: '\"',\n",
       " 3: '$',\n",
       " 4: '%',\n",
       " 5: '&',\n",
       " 6: \"'\",\n",
       " 7: ',',\n",
       " 8: '-',\n",
       " 9: '.',\n",
       " 10: '0',\n",
       " 11: '1',\n",
       " 12: '2',\n",
       " 13: '3',\n",
       " 14: '4',\n",
       " 15: '5',\n",
       " 16: '6',\n",
       " 17: '7',\n",
       " 18: '8',\n",
       " 19: '9',\n",
       " 20: ':',\n",
       " 21: '?',\n",
       " 22: 'A',\n",
       " 23: 'B',\n",
       " 24: 'C',\n",
       " 25: 'D',\n",
       " 26: 'E',\n",
       " 27: 'F',\n",
       " 28: 'G',\n",
       " 29: 'H',\n",
       " 30: 'I',\n",
       " 31: 'J',\n",
       " 32: 'K',\n",
       " 33: 'L',\n",
       " 34: 'M',\n",
       " 35: 'N',\n",
       " 36: 'O',\n",
       " 37: 'P',\n",
       " 38: 'Q',\n",
       " 39: 'R',\n",
       " 40: 'S',\n",
       " 41: 'T',\n",
       " 42: 'U',\n",
       " 43: 'V',\n",
       " 44: 'W',\n",
       " 45: 'X',\n",
       " 46: 'Y',\n",
       " 47: 'Z',\n",
       " 48: 'a',\n",
       " 49: 'b',\n",
       " 50: 'c',\n",
       " 51: 'd',\n",
       " 52: 'e',\n",
       " 53: 'f',\n",
       " 54: 'g',\n",
       " 55: 'h',\n",
       " 56: 'i',\n",
       " 57: 'j',\n",
       " 58: 'k',\n",
       " 59: 'l',\n",
       " 60: 'm',\n",
       " 61: 'n',\n",
       " 62: 'o',\n",
       " 63: 'p',\n",
       " 64: 'q',\n",
       " 65: 'r',\n",
       " 66: 's',\n",
       " 67: 't',\n",
       " 68: 'u',\n",
       " 69: 'v',\n",
       " 70: 'w',\n",
       " 71: 'x',\n",
       " 72: 'y',\n",
       " 73: 'z'}"
      ]
     },
     "execution_count": 38,
     "metadata": {},
     "output_type": "execute_result"
    }
   ],
   "source": [
    "reverse_input_char_index"
   ]
  },
  {
   "cell_type": "code",
   "execution_count": 39,
   "metadata": {},
   "outputs": [
    {
     "data": {
      "text/plain": [
       "{0: '\\t',\n",
       " 1: '\\n',\n",
       " 2: ' ',\n",
       " 3: '!',\n",
       " 4: '\"',\n",
       " 5: '$',\n",
       " 6: '%',\n",
       " 7: '&',\n",
       " 8: \"'\",\n",
       " 9: '(',\n",
       " 10: ')',\n",
       " 11: ',',\n",
       " 12: '-',\n",
       " 13: '.',\n",
       " 14: '0',\n",
       " 15: '1',\n",
       " 16: '2',\n",
       " 17: '3',\n",
       " 18: '4',\n",
       " 19: '5',\n",
       " 20: '6',\n",
       " 21: '7',\n",
       " 22: '8',\n",
       " 23: '9',\n",
       " 24: ':',\n",
       " 25: '?',\n",
       " 26: 'A',\n",
       " 27: 'B',\n",
       " 28: 'C',\n",
       " 29: 'D',\n",
       " 30: 'E',\n",
       " 31: 'F',\n",
       " 32: 'G',\n",
       " 33: 'H',\n",
       " 34: 'I',\n",
       " 35: 'J',\n",
       " 36: 'K',\n",
       " 37: 'L',\n",
       " 38: 'M',\n",
       " 39: 'N',\n",
       " 40: 'O',\n",
       " 41: 'P',\n",
       " 42: 'Q',\n",
       " 43: 'R',\n",
       " 44: 'S',\n",
       " 45: 'T',\n",
       " 46: 'U',\n",
       " 47: 'V',\n",
       " 48: 'X',\n",
       " 49: 'Y',\n",
       " 50: 'a',\n",
       " 51: 'b',\n",
       " 52: 'c',\n",
       " 53: 'd',\n",
       " 54: 'e',\n",
       " 55: 'f',\n",
       " 56: 'g',\n",
       " 57: 'h',\n",
       " 58: 'i',\n",
       " 59: 'j',\n",
       " 60: 'k',\n",
       " 61: 'l',\n",
       " 62: 'm',\n",
       " 63: 'n',\n",
       " 64: 'o',\n",
       " 65: 'p',\n",
       " 66: 'q',\n",
       " 67: 'r',\n",
       " 68: 's',\n",
       " 69: 't',\n",
       " 70: 'u',\n",
       " 71: 'v',\n",
       " 72: 'w',\n",
       " 73: 'x',\n",
       " 74: 'y',\n",
       " 75: 'z',\n",
       " 76: '\\xa0',\n",
       " 77: '«',\n",
       " 78: '»',\n",
       " 79: 'À',\n",
       " 80: 'Ç',\n",
       " 81: 'É',\n",
       " 82: 'Ê',\n",
       " 83: 'Ô',\n",
       " 84: 'à',\n",
       " 85: 'â',\n",
       " 86: 'ç',\n",
       " 87: 'è',\n",
       " 88: 'é',\n",
       " 89: 'ê',\n",
       " 90: 'ë',\n",
       " 91: 'î',\n",
       " 92: 'ï',\n",
       " 93: 'ô',\n",
       " 94: 'ù',\n",
       " 95: 'û',\n",
       " 96: 'œ',\n",
       " 97: '\\u2009',\n",
       " 98: '‘',\n",
       " 99: '’',\n",
       " 100: '\\u202f'}"
      ]
     },
     "execution_count": 39,
     "metadata": {},
     "output_type": "execute_result"
    }
   ],
   "source": [
    "reverse_target_char_index"
   ]
  },
  {
   "cell_type": "code",
   "execution_count": 40,
   "metadata": {},
   "outputs": [],
   "source": [
    "def decode_sequence(input_seq):\n",
    "    # Encode the input as state vectors.\n",
    "    states_value = encoder_model.predict(input_seq)\n",
    "\n",
    "    # Generate empty target sequence of length 1.\n",
    "    target_seq = np.zeros((1, 1, num_decoder_tokens))\n",
    "    # Populate the first character of target sequence with the start character.\n",
    "    target_seq[0, 0, target_token_index['\\t']] = 1.\n",
    "\n",
    "    # Sampling loop for a batch of sequences\n",
    "    # (to simplify, here we assume a batch of size 1).\n",
    "    stop_condition = False\n",
    "    decoded_sentence = ''\n",
    "    while not stop_condition:\n",
    "        output_tokens, h, c = decoder_model.predict(\n",
    "            [target_seq] + states_value)\n",
    "\n",
    "        # Sample a token\n",
    "        sampled_token_index = np.argmax(output_tokens[0, -1, :])\n",
    "        sampled_char = reverse_target_char_index[sampled_token_index]\n",
    "        decoded_sentence += sampled_char\n",
    "\n",
    "        # Exit condition: either hit max length\n",
    "        # or find stop character.\n",
    "        if (sampled_char == '\\n' or\n",
    "           len(decoded_sentence) > max_decoder_seq_length):\n",
    "            stop_condition = True\n",
    "\n",
    "        # Update the target sequence (of length 1).\n",
    "        target_seq = np.zeros((1, 1, num_decoder_tokens))\n",
    "        target_seq[0, 0, sampled_token_index] = 1.\n",
    "\n",
    "        # Update states\n",
    "        states_value = [h, c]\n",
    "\n",
    "    return decoded_sentence"
   ]
  },
  {
   "cell_type": "code",
   "execution_count": 41,
   "metadata": {
    "scrolled": true
   },
   "outputs": [
    {
     "name": "stdout",
     "output_type": "stream",
     "text": [
      "-\n",
      "Input sentence: Go.\n",
      "Decoded sentence: Va !\n",
      "\n",
      "-\n",
      "Input sentence: Hi.\n",
      "Decoded sentence: Salut !\n",
      "\n",
      "-\n",
      "Input sentence: Hi.\n",
      "Decoded sentence: Salut !\n",
      "\n",
      "-\n",
      "Input sentence: Run!\n",
      "Decoded sentence: Courez !\n",
      "\n",
      "-\n",
      "Input sentence: Run!\n",
      "Decoded sentence: Courez !\n",
      "\n",
      "-\n",
      "Input sentence: Who?\n",
      "Decoded sentence: Qui ?\n",
      "\n",
      "-\n",
      "Input sentence: Wow!\n",
      "Decoded sentence: Ça alors !\n",
      "\n",
      "-\n",
      "Input sentence: Fire!\n",
      "Decoded sentence: Au feu !\n",
      "\n",
      "-\n",
      "Input sentence: Help!\n",
      "Decoded sentence: À l'aide !\n",
      "\n",
      "-\n",
      "Input sentence: Jump.\n",
      "Decoded sentence: Saute.\n",
      "\n",
      "-\n",
      "Input sentence: Stop!\n",
      "Decoded sentence: Arrête-toi !\n",
      "\n",
      "-\n",
      "Input sentence: Stop!\n",
      "Decoded sentence: Arrête-toi !\n",
      "\n",
      "-\n",
      "Input sentence: Stop!\n",
      "Decoded sentence: Arrête-toi !\n",
      "\n",
      "-\n",
      "Input sentence: Wait!\n",
      "Decoded sentence: Attendez !\n",
      "\n",
      "-\n",
      "Input sentence: Wait!\n",
      "Decoded sentence: Attendez !\n",
      "\n",
      "-\n",
      "Input sentence: Go on.\n",
      "Decoded sentence: Poursuivez.\n",
      "\n",
      "-\n",
      "Input sentence: Go on.\n",
      "Decoded sentence: Poursuivez.\n",
      "\n",
      "-\n",
      "Input sentence: Go on.\n",
      "Decoded sentence: Poursuivez.\n",
      "\n",
      "-\n",
      "Input sentence: Hello!\n",
      "Decoded sentence: Salut !\n",
      "\n",
      "-\n",
      "Input sentence: Hello!\n",
      "Decoded sentence: Salut !\n",
      "\n",
      "-\n",
      "Input sentence: I see.\n",
      "Decoded sentence: Je comprends.\n",
      "\n",
      "-\n",
      "Input sentence: I try.\n",
      "Decoded sentence: J'essaye.\n",
      "\n",
      "-\n",
      "Input sentence: I won!\n",
      "Decoded sentence: Je l'ai emporté !\n",
      "\n",
      "-\n",
      "Input sentence: I won!\n",
      "Decoded sentence: Je l'ai emporté !\n",
      "\n",
      "-\n",
      "Input sentence: I won.\n",
      "Decoded sentence: J’ai gagné.\n",
      "\n",
      "-\n",
      "Input sentence: Oh no!\n",
      "Decoded sentence: Oh nonces !\n",
      "\n",
      "-\n",
      "Input sentence: Attack!\n",
      "Decoded sentence: Attaque !\n",
      "\n",
      "-\n",
      "Input sentence: Attack!\n",
      "Decoded sentence: Attaque !\n",
      "\n",
      "-\n",
      "Input sentence: Cheers!\n",
      "Decoded sentence: Merci !\n",
      "\n",
      "-\n",
      "Input sentence: Cheers!\n",
      "Decoded sentence: Merci !\n",
      "\n",
      "-\n",
      "Input sentence: Cheers!\n",
      "Decoded sentence: Merci !\n",
      "\n",
      "-\n",
      "Input sentence: Cheers!\n",
      "Decoded sentence: Merci !\n",
      "\n",
      "-\n",
      "Input sentence: Get up.\n",
      "Decoded sentence: Lève-toi.\n",
      "\n",
      "-\n",
      "Input sentence: Go now.\n",
      "Decoded sentence: Va, maintenant.\n",
      "\n",
      "-\n",
      "Input sentence: Go now.\n",
      "Decoded sentence: Va, maintenant.\n",
      "\n",
      "-\n",
      "Input sentence: Go now.\n",
      "Decoded sentence: Va, maintenant.\n",
      "\n",
      "-\n",
      "Input sentence: Got it!\n",
      "Decoded sentence: Compris !\n",
      "\n",
      "-\n",
      "Input sentence: Got it!\n",
      "Decoded sentence: Compris !\n",
      "\n",
      "-\n",
      "Input sentence: Got it?\n",
      "Decoded sentence: Pigé ?\n",
      "\n",
      "-\n",
      "Input sentence: Got it?\n",
      "Decoded sentence: Pigé ?\n",
      "\n",
      "-\n",
      "Input sentence: Got it?\n",
      "Decoded sentence: Pigé ?\n",
      "\n",
      "-\n",
      "Input sentence: Hop in.\n",
      "Decoded sentence: Monte.\n",
      "\n",
      "-\n",
      "Input sentence: Hop in.\n",
      "Decoded sentence: Monte.\n",
      "\n",
      "-\n",
      "Input sentence: Hug me.\n",
      "Decoded sentence: Serre-moi dans vos bras !\n",
      "\n",
      "-\n",
      "Input sentence: Hug me.\n",
      "Decoded sentence: Serre-moi dans vos bras !\n",
      "\n",
      "-\n",
      "Input sentence: I fell.\n",
      "Decoded sentence: Je suis tombée.\n",
      "\n",
      "-\n",
      "Input sentence: I fell.\n",
      "Decoded sentence: Je suis tombée.\n",
      "\n",
      "-\n",
      "Input sentence: I know.\n",
      "Decoded sentence: Je sais.\n",
      "\n",
      "-\n",
      "Input sentence: I left.\n",
      "Decoded sentence: Je suis partie.\n",
      "\n",
      "-\n",
      "Input sentence: I left.\n",
      "Decoded sentence: Je suis partie.\n",
      "\n",
      "-\n",
      "Input sentence: I lost.\n",
      "Decoded sentence: J'ai perdu.\n",
      "\n",
      "-\n",
      "Input sentence: I paid.\n",
      "Decoded sentence: J’ai payé.\n",
      "\n",
      "-\n",
      "Input sentence: I'm 19.\n",
      "Decoded sentence: J'ai 19 ans.\n",
      "\n",
      "-\n",
      "Input sentence: I'm OK.\n",
      "Decoded sentence: Je vais bien.\n",
      "\n",
      "-\n",
      "Input sentence: I'm OK.\n",
      "Decoded sentence: Je vais bien.\n",
      "\n",
      "-\n",
      "Input sentence: Listen.\n",
      "Decoded sentence: Écoutez-moi.\n",
      "\n",
      "-\n",
      "Input sentence: No way!\n",
      "Decoded sentence: C'est pas possible !\n",
      "\n",
      "-\n",
      "Input sentence: No way!\n",
      "Decoded sentence: C'est pas possible !\n",
      "\n",
      "-\n",
      "Input sentence: No way!\n",
      "Decoded sentence: C'est pas possible !\n",
      "\n",
      "-\n",
      "Input sentence: No way!\n",
      "Decoded sentence: C'est pas possible !\n",
      "\n",
      "-\n",
      "Input sentence: No way!\n",
      "Decoded sentence: C'est pas possible !\n",
      "\n",
      "-\n",
      "Input sentence: No way!\n",
      "Decoded sentence: C'est pas possible !\n",
      "\n",
      "-\n",
      "Input sentence: No way!\n",
      "Decoded sentence: C'est pas possible !\n",
      "\n",
      "-\n",
      "Input sentence: No way!\n",
      "Decoded sentence: C'est pas possible !\n",
      "\n",
      "-\n",
      "Input sentence: No way!\n",
      "Decoded sentence: C'est pas possible !\n",
      "\n",
      "-\n",
      "Input sentence: Really?\n",
      "Decoded sentence: Vrai ?\n",
      "\n",
      "-\n",
      "Input sentence: Really?\n",
      "Decoded sentence: Vrai ?\n",
      "\n",
      "-\n",
      "Input sentence: Really?\n",
      "Decoded sentence: Vrai ?\n",
      "\n",
      "-\n",
      "Input sentence: Thanks.\n",
      "Decoded sentence: Merci !\n",
      "\n",
      "-\n",
      "Input sentence: We try.\n",
      "Decoded sentence: Nous l'apprécis.\n",
      "\n",
      "-\n",
      "Input sentence: We won.\n",
      "Decoded sentence: Nous l'emportâmes.\n",
      "\n",
      "-\n",
      "Input sentence: We won.\n",
      "Decoded sentence: Nous l'emportâmes.\n",
      "\n",
      "-\n",
      "Input sentence: We won.\n",
      "Decoded sentence: Nous l'emportâmes.\n",
      "\n",
      "-\n",
      "Input sentence: We won.\n",
      "Decoded sentence: Nous l'emportâmes.\n",
      "\n",
      "-\n",
      "Input sentence: Ask Tom.\n",
      "Decoded sentence: Demande à Tom.\n",
      "\n",
      "-\n",
      "Input sentence: Awesome!\n",
      "Decoded sentence: Fantastique !\n",
      "\n",
      "-\n",
      "Input sentence: Be calm.\n",
      "Decoded sentence: Soyez calmes !\n",
      "\n",
      "-\n",
      "Input sentence: Be calm.\n",
      "Decoded sentence: Soyez calmes !\n",
      "\n",
      "-\n",
      "Input sentence: Be calm.\n",
      "Decoded sentence: Soyez calmes !\n",
      "\n",
      "-\n",
      "Input sentence: Be cool.\n",
      "Decoded sentence: Sois détendu !\n",
      "\n",
      "-\n",
      "Input sentence: Be fair.\n",
      "Decoded sentence: Soyez équitables !\n",
      "\n",
      "-\n",
      "Input sentence: Be fair.\n",
      "Decoded sentence: Soyez équitables !\n",
      "\n",
      "-\n",
      "Input sentence: Be fair.\n",
      "Decoded sentence: Soyez équitables !\n",
      "\n",
      "-\n",
      "Input sentence: Be fair.\n",
      "Decoded sentence: Soyez équitables !\n",
      "\n",
      "-\n",
      "Input sentence: Be fair.\n",
      "Decoded sentence: Soyez équitables !\n",
      "\n",
      "-\n",
      "Input sentence: Be fair.\n",
      "Decoded sentence: Soyez équitables !\n",
      "\n",
      "-\n",
      "Input sentence: Be kind.\n",
      "Decoded sentence: Sois confiance !\n",
      "\n",
      "-\n",
      "Input sentence: Be nice.\n",
      "Decoded sentence: Soyez gentils !\n",
      "\n",
      "-\n",
      "Input sentence: Be nice.\n",
      "Decoded sentence: Soyez gentils !\n",
      "\n",
      "-\n",
      "Input sentence: Be nice.\n",
      "Decoded sentence: Soyez gentils !\n",
      "\n",
      "-\n",
      "Input sentence: Be nice.\n",
      "Decoded sentence: Soyez gentils !\n",
      "\n",
      "-\n",
      "Input sentence: Be nice.\n",
      "Decoded sentence: Soyez gentils !\n",
      "\n",
      "-\n",
      "Input sentence: Be nice.\n",
      "Decoded sentence: Soyez gentils !\n",
      "\n",
      "-\n",
      "Input sentence: Beat it.\n",
      "Decoded sentence: Dégage !\n",
      "\n",
      "-\n",
      "Input sentence: Call me.\n",
      "Decoded sentence: Appelle-moi !\n",
      "\n",
      "-\n",
      "Input sentence: Call me.\n",
      "Decoded sentence: Appelle-moi !\n",
      "\n",
      "-\n",
      "Input sentence: Call us.\n",
      "Decoded sentence: Appelle-nous !\n",
      "\n",
      "-\n",
      "Input sentence: Call us.\n",
      "Decoded sentence: Appelle-nous !\n",
      "\n",
      "-\n",
      "Input sentence: Come in.\n",
      "Decoded sentence: Entrez !\n",
      "\n",
      "-\n",
      "Input sentence: Come in.\n",
      "Decoded sentence: Entrez !\n",
      "\n"
     ]
    }
   ],
   "source": [
    "for seq_index in range(100):\n",
    "    # Take one sequence (part of the training set)\n",
    "    # for trying out decoding.\n",
    "    input_seq = encoder_input_data[seq_index: seq_index + 1]\n",
    "    decoded_sentence = decode_sequence(input_seq)\n",
    "    print('-')\n",
    "    print('Input sentence:', input_texts[seq_index])\n",
    "    print('Decoded sentence:', decoded_sentence)"
   ]
  },
  {
   "cell_type": "code",
   "execution_count": null,
   "metadata": {},
   "outputs": [],
   "source": []
  }
 ],
 "metadata": {
  "kernelspec": {
   "display_name": "Python 3",
   "language": "python",
   "name": "python3"
  },
  "language_info": {
   "codemirror_mode": {
    "name": "ipython",
    "version": 3
   },
   "file_extension": ".py",
   "mimetype": "text/x-python",
   "name": "python",
   "nbconvert_exporter": "python",
   "pygments_lexer": "ipython3",
   "version": "3.7.4"
  }
 },
 "nbformat": 4,
 "nbformat_minor": 2
}
